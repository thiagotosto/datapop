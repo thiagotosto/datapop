{
 "cells": [
  {
   "cell_type": "code",
   "execution_count": 1,
   "metadata": {},
   "outputs": [],
   "source": [
    "import tweepy\n",
    "from pymongo import MongoClient"
   ]
  },
  {
   "cell_type": "code",
   "execution_count": 2,
   "metadata": {},
   "outputs": [],
   "source": [
    "consumer_key=\"jHM5NQ2laLIUvSftKY7ollzCR\"\n",
    "consumer_secret=\"EaMcEGRhweXaxGdGHiBCkQELJ3k2pRR8G6twANblgr7CJhcJun\"\n",
    "access_token=\"236888293-RAEsy7oTqFtEpUXzG0fn06ioaTjcG700OlYOxzZq\"\n",
    "access_token_secret=\"i0lSrUk0RAPUUMTKWjzrPG4uEtepqy37Y6pK95U5BwvNy\""
   ]
  },
  {
   "cell_type": "code",
   "execution_count": 3,
   "metadata": {},
   "outputs": [],
   "source": [
    "auth = tweepy.OAuthHandler(consumer_key, consumer_secret)\n",
    "auth.set_access_token(access_token, access_token_secret)\n",
    "\n",
    "api = tweepy.API(auth)\n",
    "\n",
    "public_tweets = api.home_timeline()\n",
    "\n",
    "user = api.get_user('maurocezar', tweet_mode=\"extended\")"
   ]
  },
  {
   "cell_type": "code",
   "execution_count": 4,
   "metadata": {},
   "outputs": [
    {
     "name": "stdout",
     "output_type": "stream",
     "text": [
      "maurocezar\n",
      "843329\n"
     ]
    }
   ],
   "source": [
    "print(user.screen_name)\n",
    "print(user.followers_count)"
   ]
  },
  {
   "cell_type": "code",
   "execution_count": 5,
   "metadata": {},
   "outputs": [
    {
     "name": "stdout",
     "output_type": "stream",
     "text": [
      "RT @c_arreguy: Desde o 0 x 3 para o Atlético-PR, a 11/7/2016, quando Tite foi ao Mineirão ver Fábio e viu Weverton, o Cruzeiro, ainda dirig…\n",
      "RT @ricardospinelli: Jogadores com mais assistências no Brasileirão desde 2015:\n",
      "40   Dudu (@Palmeiras)&lt;&lt;\n",
      "25   Gustavo Scarpa (@Palmeiras/@F…\n",
      "No ar o Linha de Passe ao vivo na ESPN Brasil. Vamos nessa falar do incrível Fluminense 4-1 Cruzeiro, do atropelame… https://t.co/pmUORs4FsV\n",
      "Alguém vai perguntar ao Abel na coletiva de imprensa se o estádio Independência é o mais bonito de Minas Gerais?\n",
      "Segundo o Atlético, NÃO há negociação com o treinador português Jorge Jesus\n",
      "Logo após Atlético x Flamengo e Palmeiras x Santos, ou seja, lá pelas 21h, tem Linha de Passe ao vivo na ESPN Brasi… https://t.co/LPOvRi7tEu\n",
      "Fluminense goleia Cruzeiro por 4-1. Placar de finalizações nos dois jogos entre as duas equipes: 40-4! https://t.co/33EcyT5uLA\n",
      "@DiegoPreviatelo 👍🏻\n",
      "Hoje, logo após Atlético x Flamengo e Palmeiras x Santos, ou seja, lá pelas 21h, tem Linha de Passe ao vivo na ESPN… https://t.co/sebZyC4v5T\n",
      "🎵 Racing es mi alegria \n",
      "Por vos dejo la vida \n",
      "La quiebra tampoco el descenso \n",
      "Nada puede \n",
      "Con el sentimiento que si… https://t.co/HxPjHWpNco\n",
      "A principal delas, \"Jurabas tu\", que a hinchada do Racing canta assim:\n",
      "\n",
      "https://t.co/bOB9lpBw1T\n",
      "Ele era de Santa Fé, como sua banda, hincha do Union e responsável por sucessos que foram levados pelos torcedores… https://t.co/uTq8QCh1se\n",
      "Segue o 🧵... Morreu de ataque cardíaco Juan Carlos “Banana” Mascheroni, líder e “cantante” da banda de cumbia  Los… https://t.co/VTSTQgeF9e\n",
      "🤔 https://t.co/fjviKmrZco\n",
      "@CassyusAhtip2c Sei que você é daqueles que discorda 100% das vezes, insistente, cansativo. Adeus\n",
      "@712Rochapousada é uma sequência de tuítes, cara, tem que ler a thread\n",
      "@PeckAlmeida esse é o trabalho. abs\n",
      "@HamiltonCalilJr Quem disse que foi ruim? Fez 47 jogos e 20 gols pelo Manchester City na temporada, 4 no Burton (9… https://t.co/wSmqzCxbdC\n",
      "Os 43 jogos, as 69 finalizações de Lucas Moura e seus 15 gols pelo Tottenham na temporada em partidas pela Premier… https://t.co/xjRSzEoFHQ\n",
      "Agora o posicionamento de Lucas Moura no Tottenham de Pochettino. Incrível que depois de mostrar poder de decisão e… https://t.co/j64G0SEWXa\n"
     ]
    }
   ],
   "source": [
    "for tweet in user.timeline():\n",
    "    print(tweet.text)"
   ]
  },
  {
   "cell_type": "code",
   "execution_count": 6,
   "metadata": {
    "scrolled": true
   },
   "outputs": [
    {
     "name": "stdout",
     "output_type": "stream",
     "text": [
      "@Danilo65049691 @bernardofrancas @leopancierii @fredgol9 rel4x4, d4nilo, tenh4 um4 bo4 noite!\n",
      "@fredgol9 pho fredao faz 4 rodada que te escal9 no cartola vamo te que bomba na proxima ahahhaha\n",
      "@fredgol9 Aguardando já esse LIXO do @fredgol9 afundar o Cruzeiro.\n",
      "Vem tranquilo @fredgol9 🇮🇹 https://t.co/VkQ3v2q5KW\n",
      "RT @CruzeiroVerdad2: @fredgol9 Pega sua malinha e seu celular e vai fazer stories em outro lugar. https://t.co/S6rcQH8reX\n",
      "@fredgol9 Confio no seu futebol,guerreiro!\n",
      "@fredgol9 Volta capitão!\n",
      "Perder para o FLUMINENcE já uma merda, de goleada pior ainda @Cruzeiro  perder para um time minúsculo desse vergonhoso @fredgol9 some!\n",
      "@thiagofredgol @bernardofrancas @leopancierii @fredgol9 Vou nem zoar o advogado vai que ele me processa\n",
      "@bernardofrancas @Danilo65049691 @leopancierii @fredgol9 fic4 put4 n4o, c4chorrinh4\n",
      "@chcruzerao @fredgol9 Se continuar assim vai ser difícil, mas esperança é a última que morre\n",
      "@fredgol9 Moio\n",
      "@fredgol9 O cone que não faz gol\n",
      "VOLTA LOGO PORRA @fredgol9\n",
      "@fredgol9 fica aí no Rio\n",
      "RT @CruzeiroVerdad2: @fredgol9 Pega sua malinha e seu celular e vai fazer stories em outro lugar. https://t.co/S6rcQH8reX\n",
      "Sou mais radical, está bom da diretoria repensar se @manomenezes  e a melhor escolha pro @Cruzeiro hj , não tem variações de jogada e vejo muito contido com o elenco , e tem uns jogadores lá q já deu né , um atacante q não chuta uma bola no gol ajuda nos aí @fredgol9 , mano\n",
      "@CruzeiroVerdad2 @fredgol9 AtleticoVerdade vc devia chamar. Desculpe.\n",
      "@fredgol9 Pô pede desculpa pro Matheus Ferraz por ter entrado no bolso dele sem pedir\n",
      "@fredgol9 aí Fred tá tirando né?, mermão te pedi na copa América até mandei mensagem pro tite,e tu rateia cmg no Cartola daí não dá mané ksksksk\n",
      "@wander_a_cruz @fredgol9 @FluminenseFC Obrigado por sempre se arrastar em campo contra o Flu. Volta Dom\n",
      "@IaanDRN @fredgol9 O jeito é torcer pra que o Cruzeiro vingue nas copas de novo né\n",
      "@fredgol9 Vai toma no seu cu, filho da puta. Mercenário. Arrogante do caralho. Vai puta que te pariu.\n",
      "@fredgol9 Pipoca.\n",
      "@chcruzerao @fredgol9 Fato, realmente prejudicou mas o time não pode depender de 1 lance o cruzeiro tem um elenco de dar inveja\n",
      "@fredgol9 Cone de merda. Som do Cruzeiro, seu bosta!!!\n",
      "@Danilo65049691 @bernardofrancas @leopancierii @fredgol9 t4mo junto, obrig4do\n",
      "@fredgol9 Eu não vou tocar pra você se você estiver com dó - LIMA, Henrique.\n",
      "@fredgol9 Joga mais bola hein!\n",
      "@fredgol9 Pega sua malinha e seu celular e vai fazer stories em outro lugar. https://t.co/S6rcQH8reX\n",
      "Obrigado, @fredgol9! Mais uma vez fidalgo com o FLUZÃO 🇭🇺\n",
      "@thiagofredgol @bernardofrancas @leopancierii @fredgol9 Tô calmo série C\n",
      "@fredgol9 Volta pro fluminense filho da puta! Dois jogos que vc nem na bola foi\n",
      "@fredgol9 Tava com dó, fdp....??? @fredgol9\n",
      "@diogofaria83 @fredgol9 Criuze?\n",
      "RT @fredgol9: 🙏🏼🦊🔵 https://t.co/Urhv55aHca\n",
      "@IaanDRN @fredgol9 Né kkkkkk \n",
      "Mas cara, na moral mesmo. Nós Cruzeirenses não somos de chorar arbitragem, e sim o desempenho dos jogadores, mas se tivesse dado aquela falta e cartão vermelho nos 2 minutos de jogo, muda tudo.. mas enfim, o Cruzeiro não tá merecendo nem está reclamação 6/45\n",
      "RT @gustavonolascoB: A diferença do que o @fredgol9 fez nesses dois jogos contra o Flumimense e o que o Edmundo fez ao errar o pênalti cont…\n",
      "@Danilo65049691 @bernardofrancas @leopancierii @fredgol9 c4lm4, por f4vor\n",
      "Achei que o @fredgol9 ia dar show no jogo hj. A rodada mal começou e eu já me fodi no cartola\n",
      "RT @gustavonolascoB: A diferença do que o @fredgol9 fez nesses dois jogos contra o Flumimense e o que o Edmundo fez ao errar o pênalti cont…\n",
      "RT @fredgol9: 🙏🏼🦊🔵 https://t.co/Urhv55aHca\n",
      "Eu quero que o @fredgol9 vai pra Puta que o Pariu!!!\n",
      "Ou seja, para o @FluminenseFC\n",
      "@danielnatu @fredgol9 @samuelvenancio @Cruzeiro_News @Cruzeiro\n",
      "@fredgol9 Vai toma no cu\n",
      "RT @IgorRock92: @Cachazeiros @fredgol9 Time ta inoperante. Jogando absolutamente NADA. Nao consigo entender como pode haver queda tao abrup…\n",
      "@fredgol9 Ídolo! Estamos lhe aguardando de volta!\n",
      "Dom da uma moral, manda um abraço para meus filhos Pedro e Bernardo, os mulekes são mais Fred FC do que FLU FC...\n",
      "Muita saúde sempre!\n",
      "@chcruzerao @fredgol9 Aí é a hora que você pensa:\n",
      "\n",
      "Se o PR tivesse tocado pro Fred e ele feito o gol você teria:\n",
      "\n",
      "Provavelmente comemorado a vitória do Cruzeiro \n",
      "Eu de saia na praça 6\n",
      "Não sei quem me ilude mais, se é a mina da quebrada ou um tal de  és @fredgol9 @cartolafc https://t.co/mfz2m2POB2\n",
      "@thiagofredgol @bernardofrancas @leopancierii @fredgol9 Vou ficar triste aqui perto das minha 6 copa do Brasil o série C\n",
      "Vou falar oq vi aqui no maraca desses dois jogos... nunca vi um jogador tão apático igual ao @fredgol9 vtnc\n",
      "@Danilo65049691 @bernardofrancas @leopancierii @fredgol9 fic4 triste n4o\n",
      "@IaanDRN @fredgol9 Se pelo menos o Fred tivesse feito gol, iria me divertir, mesmo com a derrota.. fase tá ruim kkkkk https://t.co/PU5PZYKXFr\n",
      "@fredgol9 Tá de sacanagem Ja!!!!!\n",
      "@fredgol9 Volta\n",
      "@fredgol9 Eu não disse? #FredÍdoloTricolor #Fred\n",
      "@pedrujopassos @ibismania @fredgol9 Tá deixando de jogar pra ser vendido.\n",
      "@chcruzerao @fredgol9 Nossa ainda bem ksjsksjs\n",
      "@Cachazeiros @Thiago_bigode_ @fredgol9 Fora mano\n",
      "@thiagofredgol @bernardofrancas @leopancierii @fredgol9 Os advogados vem aí é muita taça eu vou ganhar\n",
      "@Cachazeiros @Thiago_bigode_ @fredgol9 AHAHHAHAHAHAHAHAHHAHAHA\n",
      "@thiagofredgol @constantiniluis @bernardofrancas @leopancierii @fredgol9 Valeu pelo oq noiado? Para a série B que vcs devem vc n quer não ne\n",
      "@Nardo174 @fredgol9 esse é o n4ndo l4 b4rc4\n",
      "RT @Cachazeiros: Mais de 180 minutos e 50 finalizações do Fluminense contra 4 do Cruzeiro, que porra é essa? @fredgol9 nunca ganhou contra…\n",
      "@gabriel_s71 @fredgol9 Kkkkkkkkkkkkkk\n",
      "Esse @fredgol9 é o maior MARKETEIRO da história do futebol brasileiro, ator...por isso é o rei dos stories\n",
      "Exxxx jogador tem pelo menos 5 anos\n",
      "Morre com ele MANO...logo vc hein Mano? Futebol por debaixo dos panos prega peças! Vai saber...\n",
      "@samuelvenancio\n",
      "@fredgol9 😂🤣😂🤣😂🤣😂🤣😂🤣😂🤣😂🤣😂🤣\n",
      "@bernardofrancas @Danilo65049691 @leopancierii @fredgol9 v4leu m4ri4\n",
      "@Danilo65049691 @constantiniluis @bernardofrancas @leopancierii @fredgol9 v4leu m4ri4!\n",
      "@MM9oficial Simples... Mas a diretoria tem que ter peito e tirar o cara agora. Pedir pra sair ele não vai.... E por sinal, pode voltar guerreiro porque sua perna se estiver amarrada joga mais que a do @fredgol9 que só faz gol em mineiro...\n",
      "@anacl_aras @fredgol9 acovardou!\n",
      "@IaanDRN @fredgol9 Vc tem que usar a mesma visão que teve só Fred pro cartola, amigo! Você tem potencial! Já tinha até tirado o print pra cobrar 😂😂😂😂 iludido sou eu https://t.co/CZb9bdz0XS\n",
      "@fredgol9 te amo, fredão!\n",
      "@Fluminensee1902 @_kauaffc10 @fredgol9 Eu pensei que o ganso e o Fred iam sair na porrada no segundo tempo\n",
      "@fredgol9 Lixooooooo. Nunca será ídolo em lugar algum. Espero que o cruzeiro atrapalhe sua carreira colo vc está atrapalhando o cruzeiro.\n",
      "@fredgol9 Tá rolando alguma treta interna.... Dá um jeito com os companheiros pq time tem, salário parece estar em dia, e vcs não estão jogando porra nenhuma, só querem mídia, vamo jogar bola....\n",
      "@antony_santos12 @N5Eoficial @fredgol9 Acho o Rodriguinho.\n",
      "Fora Mano Menezes, toma no cu, time jogando igual o time de várzea aqui da cidade, se fuder, tirando o pé. @fredgol9 com dó do fluminense nem dominar uma bola consegue.\n",
      "@ibismania @fredgol9  olha o que voltou a ser ! Vai jogar bola ?\n",
      "@fredgol9 Poxa…4x1 né deu ruim kkkk\n",
      "@fredgol9 vc não joga contra o Fluminense hein sujeito..\n",
      "E agora @Dedevital @fabiogoleiro_01 @lucas_romero29 @16LucasSilva @fredgol9 tomar 4 do fluminense? Vcs não tem vergonha? Decepcionante o que vcs vem apresentando a 7 jogos. Vergonhoso o que andam apresentando. Vamos jogar com vontade porra. Tnc\n",
      "@fredgol9 Tmj irmão Vms apoiar , time vai reverter isso !\n",
      "@fredgol9 Mortoooooooo\n",
      "@fredgol9 volta pro lugar, que sempre foi seu\n",
      "Ta vendo @fredgol9 seu lugar é no @FluminenseFC. Vem voltar a ser artilheiro goleador. #4x1\n",
      "@fredgol9 😫😫😫😫\n",
      "RT @Cachazeiros: Mais de 180 minutos e 50 finalizações do Fluminense contra 4 do Cruzeiro, que porra é essa? @fredgol9 nunca ganhou contra…\n",
      "@fredgol9 #forafred desgraçado\n",
      "@SporTV Então volta pra lá @fredgol9 ! Vc deveria está falando o qto vcs estão jogando mal, não parabenizando quem meteu goleada em nos\n",
      "@fredgol9 Não sei c e o estilo de jogo do retranqueiro Mano ou e vc que tá MUITO mal mesmo, para de ir pra nossa área defender caralho vc não e zagueiro\n"
     ]
    }
   ],
   "source": [
    "#len(api.search(q=\"@fredgol9\", count=1000, tweet_mode=\"extended\", since='2018-01-01'))\n",
    "for b in api.search(q=\"@fredgol9\", count=1000, tweet_mode=\"extended\", since='2018-01-01'):\n",
    "    print(b.full_text)\n",
    "\n",
    "#api.search(q=\"bruno henrique\", tweet_mode=\"extended\").full_text\n"
   ]
  },
  {
   "cell_type": "code",
   "execution_count": 15,
   "metadata": {},
   "outputs": [],
   "source": [
    "fred_tweets = [obj._json for obj in api.search(q=\"@fredgol9\", count=1000, tweet_mode=\"extended\", since='2018-01-01')]"
   ]
  },
  {
   "cell_type": "code",
   "execution_count": 16,
   "metadata": {},
   "outputs": [],
   "source": [
    "bsilva_tweets = [obj._json for obj in api.search(q=\"bruno silva fluminense\", count=1000, tweet_mode=\"extended\", since='2018-01-01')]"
   ]
  },
  {
   "cell_type": "code",
   "execution_count": 17,
   "metadata": {},
   "outputs": [],
   "source": [
    "mg_client = MongoClient('localhost', 27017)"
   ]
  },
  {
   "cell_type": "code",
   "execution_count": 23,
   "metadata": {},
   "outputs": [],
   "source": [
    "tweets_to_classify = mg_client.datapop.tweets_to_classify"
   ]
  },
  {
   "cell_type": "code",
   "execution_count": 24,
   "metadata": {},
   "outputs": [
    {
     "data": {
      "text/plain": [
       "<pymongo.results.InsertManyResult at 0x7fd1b7779b88>"
      ]
     },
     "execution_count": 24,
     "metadata": {},
     "output_type": "execute_result"
    }
   ],
   "source": [
    "tweets_to_classify.insert_many(fred_tweets)"
   ]
  },
  {
   "cell_type": "code",
   "execution_count": null,
   "metadata": {},
   "outputs": [],
   "source": []
  },
  {
   "cell_type": "code",
   "execution_count": null,
   "metadata": {},
   "outputs": [],
   "source": []
  },
  {
   "cell_type": "code",
   "execution_count": null,
   "metadata": {},
   "outputs": [],
   "source": []
  },
  {
   "cell_type": "code",
   "execution_count": null,
   "metadata": {},
   "outputs": [],
   "source": []
  },
  {
   "cell_type": "code",
   "execution_count": null,
   "metadata": {},
   "outputs": [],
   "source": []
  }
 ],
 "metadata": {
  "kernelspec": {
   "display_name": "Python 3",
   "language": "python",
   "name": "python3"
  },
  "language_info": {
   "codemirror_mode": {
    "name": "ipython",
    "version": 3
   },
   "file_extension": ".py",
   "mimetype": "text/x-python",
   "name": "python",
   "nbconvert_exporter": "python",
   "pygments_lexer": "ipython3",
   "version": "3.6.7"
  }
 },
 "nbformat": 4,
 "nbformat_minor": 2
}
