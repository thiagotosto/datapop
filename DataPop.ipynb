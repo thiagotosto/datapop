{
 "cells": [
  {
   "cell_type": "code",
   "execution_count": null,
   "metadata": {},
   "outputs": [],
   "source": [
    "from flask import Flask, render_template, request, session, redirect, url_for, session  \n",
    "import ast  \n",
    "import datetime \n",
    "from pymongo import MongoClient \n",
    "import os  \n",
    "import requests as rq"
   ]
  },
  {
   "cell_type": "code",
   "execution_count": null,
   "metadata": {},
   "outputs": [],
   "source": [
    "app = Flask(__name__) \n",
    " \n",
    "app.secret_key = 'likujnyhtbgrvf67543' \n"
   ]
  },
  {
   "cell_type": "code",
   "execution_count": null,
   "metadata": {},
   "outputs": [],
   "source": [
    "@app.route('/get_tweets_sample')\n",
    "def getTweetsSample():\n",
    "    mg_client = MongoClient('localhost', 27017)\n",
    "    tweets = mg_cliente.datapop.tweets\n",
    "    \n",
    "    return {obj['_id']: obj for obj in tweets.aggregate([{'$sample': {'size': 10}}])}\n",
    "\n",
    "@app.route('/classify_tweet/<id>')\n",
    "def classifyTweet(id):\n",
    "    mg_client = MongoClient('localhost', 27017)\n",
    "    tweet = mg_client.find({'_id': id})\n",
    "    tweets = mg_client.datapop.tweets\n",
    "    tweets_classified = mg_cliente.datapop.tweets_classified\n",
    "    \n",
    "    if tweets.delete_one({\"_id\": tweet['_id']}):\n",
    "        tweets_classified.insert_one(tweet)\n",
    "\n"
   ]
  },
  {
   "cell_type": "code",
   "execution_count": null,
   "metadata": {},
   "outputs": [],
   "source": [
    "@app.route('/')\n",
    "def index():\n",
    "    tweets = rq.get('localhost:5000/get_tweets_sample').json()  \n",
    "    \n",
    "    return tweets"
   ]
  },
  {
   "cell_type": "code",
   "execution_count": null,
   "metadata": {},
   "outputs": [],
   "source": [
    "if __name__ == '__main__': \n",
    "    app.run()"
   ]
  },
  {
   "cell_type": "code",
   "execution_count": null,
   "metadata": {},
   "outputs": [],
   "source": [
    "%tb"
   ]
  },
  {
   "cell_type": "code",
   "execution_count": null,
   "metadata": {},
   "outputs": [],
   "source": [
    "!set FLASK_APP=app.py"
   ]
  },
  {
   "cell_type": "code",
   "execution_count": null,
   "metadata": {},
   "outputs": [],
   "source": [
    "!python app.py"
   ]
  },
  {
   "cell_type": "code",
   "execution_count": null,
   "metadata": {},
   "outputs": [],
   "source": []
  }
 ],
 "metadata": {
  "kernelspec": {
   "display_name": "Python 3",
   "language": "python",
   "name": "python3"
  },
  "language_info": {
   "codemirror_mode": {
    "name": "ipython",
    "version": 3
   },
   "file_extension": ".py",
   "mimetype": "text/x-python",
   "name": "python",
   "nbconvert_exporter": "python",
   "pygments_lexer": "ipython3",
   "version": "3.6.7"
  }
 },
 "nbformat": 4,
 "nbformat_minor": 2
}
